{
 "cells": [
  {
   "cell_type": "code",
   "execution_count": 534,
   "id": "462652db-5a08-48a6-9e5f-4dd24d2ea217",
   "metadata": {},
   "outputs": [],
   "source": [
    "import numpy as np\n",
    "import pandas as pd\n",
    "import matplotlib.pyplot as plt \n",
    "from scipy.optimize import minimize\n",
    "from scipy.stats import norm\n",
    "from sklearn.model_selection import ParameterGrid\n",
    "from sklearn.model_selection import cross_val_score\n",
    "from sklearn.preprocessing import OneHotEncoder\n",
    "from sklearn.pipeline import Pipeline\n",
    "from sklearn.preprocessing import StandardScaler\n",
    "from sklearn.compose import ColumnTransformer\n",
    "from sklearn.impute import SimpleImputer\n",
    "class AutoMlModel:\n",
    "    def __init__(self,model,train_X,train_y):\n",
    "        self.model=model\n",
    "        self.train_X=train_X\n",
    "        self.train_y=train_y\n",
    "    def preprocess_data(self):\n",
    "        non_numeric_cols = self.train_X.select_dtypes(exclude=np.number).columns\n",
    "        numeric_cols = self.train_X.select_dtypes(include=np.number).columns\n",
    "        numeric_pipeline = Pipeline([(\"imputer\", SimpleImputer(strategy=\"median\")),(\"std_scl\", StandardScaler())])\n",
    "        transformer_pipeline = ColumnTransformer([(\"num\", numeric_pipeline, numeric_cols),(\"non_num\", OneHotEncoder(), non_numeric_cols)])\n",
    "        return transformer_pipeline.fit_transform(self.train_X)\n",
    "    def objective_function(self, params, model, param_grid):\n",
    "        param_dict = {key: float(value) for key, value in zip(param_grid.keys(), params)}\n",
    "        model_parametrized = model.set_params(**param_dict)\n",
    "        y_scores = cross_val_score(model_parametrized, self.train_X, self.train_y, cv=5)\n",
    "        return -np.mean(y_scores)    \n",
    "        \n",
    "    def kernel(self,x1,x2,length_scale=1):\n",
    "        sqdist=np.sum(x1**2,1).reshape(-1,1) + np.sum(x2**2,1)-2*np.dot(x1,x2.T)\n",
    "        return np.exp(-0.5/ length_scale**2*sqdist)\n",
    "        \n",
    "    def surrogate(self,X,X_sample,Y_sample, noise=1e-6):\n",
    "        K=self.kernel(X_sample,X_sample)\n",
    "        K_s=self.kernel(X_sample,X)\n",
    "        K_ss=self.kernel(X,X) + noise * np.eye(len(X))\n",
    "        K_inv=np.linalg.inv(K +noise * np.eye(len(X_sample)))\n",
    "            \n",
    "        mu=K_s.T @ K_inv @ Y_sample\n",
    "        cov= K_ss- K_s.T @ K_inv @K_s\n",
    "        sigma=np.sqrt(np.diag(cov))\n",
    "        return mu,sigma\n",
    "\n",
    "    def expected_improvement(self,X,X_sample,Y_sample,xi=0.01):\n",
    "        mu,sigma= self.surrogate(X,X_sample,Y_sample)\n",
    "        mu_sample_opt=np.min(Y_sample)\n",
    "        with np.errstate(divide='warn'):\n",
    "            imp=mu-mu_sample_opt -xi\n",
    "            Z= imp/sigma\n",
    "            ei=imp*norm.cdf(Z) + sigma * norm.pdf(Z)\n",
    "            ei[sigma==0.0]=0.0\n",
    "        return ei\n",
    "    def propose_location(self, acquisition, X_sample, Y_sample, bounds, n_restarts=25):\n",
    "        dim = X_sample.shape[1]\n",
    "        min_val = float(\"inf\")\n",
    "        min_x = None\n",
    "\n",
    "        def min_obj(X):\n",
    "            return -acquisition(X.reshape(-1, dim), X_sample, Y_sample)\n",
    "\n",
    "        for x0 in np.random.uniform(bounds[:, 0], bounds[:, 1], size=(n_restarts, dim)):\n",
    "            res = minimize(min_obj, x0=x0, bounds=bounds, method='L-BFGS-B')\n",
    "            if res.fun < min_val:\n",
    "                min_val = res.fun\n",
    "                min_x = res.x\n",
    "\n",
    "        return min_x    \n",
    "    def hyperparameterTuning(self, param_grid, n_iter):\n",
    "        numerical_param_grid={key:value for key,value in param_grid.items() if all(isinstance(v,(int,float)) for v in value)}\n",
    "        bounds = np.array([param_grid[key] for key in numerical_param_grid])\n",
    "        X_sample = np.random.uniform(bounds[:, 0], bounds[:, 1], size=(5, len(numerical_param_grid)))\n",
    "        Y_sample = np.array([self.objective_function(param, self.model, numerical_param_grid) for param in X_sample])\n",
    "        \n",
    "        \n",
    "        \n",
    "        for i in range(n_iter):\n",
    "            X_next = self.propose_location(self.expected_improvement, X_sample, Y_sample, bounds)\n",
    "            Y_next = self.objective_function(X_next, self.model, numerical_param_grid)\n",
    "            \n",
    "            X_sample = np.vstack((X_sample, X_next))\n",
    "            Y_sample = np.append(Y_sample, Y_next)\n",
    "            \n",
    "            \n",
    "        \n",
    "        best_idx = np.argmin(Y_sample)\n",
    "        best_numerical_params = X_sample[best_idx]\n",
    "        \n",
    "        \n",
    "        return best_numerical_params\n",
    "        \n",
    "        \n"
   ]
  },
  {
   "cell_type": "code",
   "execution_count": 535,
   "id": "ecf21711-db9f-41be-9b88-ba64759bf223",
   "metadata": {},
   "outputs": [],
   "source": [
    "#Now below is the experimentation of the above model"
   ]
  },
  {
   "cell_type": "code",
   "execution_count": 536,
   "id": "f832571c-e471-45ba-9657-6d63422810f3",
   "metadata": {},
   "outputs": [],
   "source": [
    "#model experimentation with wine dataset below"
   ]
  },
  {
   "cell_type": "code",
   "execution_count": 537,
   "id": "0955526f-5520-4778-9a75-6bcb2a0ea70c",
   "metadata": {},
   "outputs": [
    {
     "data": {
      "text/plain": [
       "array([[ 1.51861254, -0.5622498 ,  0.23205254, ...,  0.36217728,\n",
       "         1.84791957,  1.01300893],\n",
       "       [ 0.24628963, -0.49941338, -0.82799632, ...,  0.40605066,\n",
       "         1.1134493 ,  0.96524152],\n",
       "       [ 0.19687903,  0.02123125,  1.10933436, ...,  0.31830389,\n",
       "         0.78858745,  1.39514818],\n",
       "       ...,\n",
       "       [ 0.33275817,  1.74474449, -0.38935541, ..., -1.61212515,\n",
       "        -1.48544548,  0.28057537],\n",
       "       [ 0.20923168,  0.22769377,  0.01273209, ..., -1.56825176,\n",
       "        -1.40069891,  0.29649784],\n",
       "       [ 1.39508604,  1.58316512,  1.36520822, ..., -1.52437837,\n",
       "        -1.42894777, -0.59516041]])"
      ]
     },
     "execution_count": 537,
     "metadata": {},
     "output_type": "execute_result"
    }
   ],
   "source": [
    "from sklearn import datasets\n",
    "from sklearn.model_selection import train_test_split\n",
    "from sklearn.utils import shuffle\n",
    "from sklearn.svm import SVC\n",
    "\n",
    "wine=datasets.load_wine()\n",
    "X_w=pd.DataFrame(wine.data,columns=wine.feature_names)\n",
    "y_w=wine.target\n",
    "train_X_w,test_X_w,train_y_w,test_y_w=train_test_split(X_w,y_w,test_size=0.2)\n",
    "wine_auto_model=AutoMlModel(SVC(),X_w,y_w)\n",
    "wine_auto_model.preprocess_data()"
   ]
  },
  {
   "cell_type": "code",
   "execution_count": 538,
   "id": "50838b34-9ce9-4c26-ba66-c0318a90d879",
   "metadata": {},
   "outputs": [],
   "source": [
    "# below is the cross validation score value by the model for the wine dataset with the parameters found by the hyperparameter tuning model"
   ]
  },
  {
   "cell_type": "code",
   "execution_count": 539,
   "id": "6b7c24e8-7000-434b-b8a7-701a2eb3ca98",
   "metadata": {},
   "outputs": [
    {
     "name": "stdout",
     "output_type": "stream",
     "text": [
      "0.7760317460317461\n"
     ]
    }
   ],
   "source": [
    "param_grid_wine = {\n",
    "    'C': [0.1,100],  \n",
    "    'gamma': [ 0.001, 1]\n",
    "}\n",
    "hyperparameter_names = list(param_grid.keys())\n",
    "best_param_wine=wine_auto_model.hyperparameterTuning(param_grid_wine,15)\n",
    "best_params_grid=dict(zip(hyperparameter_names, best_param_wine))\n",
    "svc=SVC(**best_params_grid)\n",
    "\n",
    "y_score=cross_val_score(svc,X_w,y_w)\n",
    "print(np.mean(y_score))"
   ]
  },
  {
   "cell_type": "code",
   "execution_count": 540,
   "id": "6eade98c-1dac-4d99-b88e-e56e3210fcfb",
   "metadata": {},
   "outputs": [],
   "source": [
    "#below is the cross validation score for the model without hyperparameter tuning"
   ]
  },
  {
   "cell_type": "code",
   "execution_count": 541,
   "id": "1c5dd909-134e-4b73-b96c-9c7606ec0c45",
   "metadata": {},
   "outputs": [
    {
     "name": "stdout",
     "output_type": "stream",
     "text": [
      "0.6634920634920635\n"
     ]
    }
   ],
   "source": [
    "y_score=cross_val_score(SVC(),X_w,y_w)\n",
    "print(np.mean(y_score))"
   ]
  },
  {
   "cell_type": "code",
   "execution_count": 542,
   "id": "c3cda4b7-4dfb-491f-af51-30423732ca44",
   "metadata": {},
   "outputs": [],
   "source": [
    "from sklearn.metrics import mean_squared_error\n",
    "def automl_tuner_wrapper(lr):\n",
    "    automl_model = AutoMlModel(model=SVC(), train_X=train_X_w, train_y=train_y_w)    \n",
    "    best_params = automl_model.hyperparameterTuning({'C': [0.1,100], 'gamma': [ 0.001, 1]}, 15)  \n",
    "    model = automl_model.model.fit(train_X_w, train_y_w)\n",
    "    y_pred_w = model.predict(test_X_w)\n",
    "    return -mean_squared_error(test_y_w, y_pred_w)  "
   ]
  },
  {
   "cell_type": "code",
   "execution_count": 543,
   "id": "312d4f2a-1d84-411a-a642-dcc56fcfb1c1",
   "metadata": {},
   "outputs": [
    {
     "name": "stdout",
     "output_type": "stream",
     "text": [
      "100%|███████████████████████████████████████████████| 50/50 [04:30<00:00,  5.40s/trial, best loss: -0.6388888888888888]\n"
     ]
    }
   ],
   "source": [
    "from hyperopt import fmin, tpe, hp\n",
    "search_space = hp.uniform('learning_rate', low=0.001, high=1)\n",
    "best_lr = fmin(fn=automl_tuner_wrapper, space=search_space, algo=tpe.suggest, max_evals=50) "
   ]
  },
  {
   "cell_type": "code",
   "execution_count": 544,
   "id": "439bfa6f-857b-42e8-ba80-23673c4f0a8b",
   "metadata": {},
   "outputs": [
    {
     "name": "stdout",
     "output_type": "stream",
     "text": [
      "100%|███████████████████████████████████████████████| 50/50 [05:07<00:00,  6.15s/trial, best loss: -0.6388888888888888]\n",
      "{'learning_rate': 0.37700500802163567}\n"
     ]
    }
   ],
   "source": [
    "best_lr = fmin(fn=automl_tuner_wrapper, space=search_space, algo=tpe.suggest, max_evals=50) \n",
    "print(best_lr)"
   ]
  },
  {
   "cell_type": "code",
   "execution_count": 546,
   "id": "f4f7bdf7-db1d-42e1-a89d-9575091744e2",
   "metadata": {},
   "outputs": [
    {
     "name": "stdout",
     "output_type": "stream",
     "text": [
      "100%|██████████████████████████████████████████████| 50/50 [00:00<00:00, 130.86trial/s, best loss: -0.3333333333333333]\n",
      "{'learning_rate': 0.004216567514294117}\n"
     ]
    }
   ],
   "source": [
    "def hyperopt_wrapper(lr):\n",
    "    automl_model = AutoMlModel(model=SVC(), train_X=train_X_w, train_y=train_y_w) \n",
    "    model = automl_model.model.fit(train_X_w, train_y_w)\n",
    "    y_pred = model.predict(test_X_w)\n",
    "    return -mean_squared_error(test_y_w, y_pred)  \n",
    "search_space = hp.uniform('learning_rate', low=0.001, high=0.1)  \n",
    "best_lr_hyperopt = fmin(fn=hyperopt_wrapper, space=search_space, algo=tpe.suggest, max_evals=50)  \n",
    "print(best_lr_hyperopt)"
   ]
  },
  {
   "cell_type": "code",
   "execution_count": null,
   "id": "2e4853d2-cd04-43aa-8f71-4e52553795bc",
   "metadata": {},
   "outputs": [],
   "source": []
  },
  {
   "cell_type": "code",
   "execution_count": 468,
   "id": "197520cb-9ee3-4581-9041-83dfd77d9239",
   "metadata": {},
   "outputs": [],
   "source": [
    "#with the iris dataset"
   ]
  },
  {
   "cell_type": "code",
   "execution_count": 469,
   "id": "d00efd60-e4cf-43ed-a738-79082c3906c5",
   "metadata": {},
   "outputs": [],
   "source": [
    "iris=datasets.load_iris()\n",
    "df = pd.DataFrame(data=iris.data, columns=iris.feature_names)\n",
    "df['target'] = iris.target\n",
    "X=df\n",
    "y=iris.target\n",
    "X,y=shuffle(X,y,random_state=42)\n",
    "train_X,test_X,train_y,test_y=train_test_split(X,y, test_size=0.2,shuffle=True)"
   ]
  },
  {
   "cell_type": "code",
   "execution_count": 470,
   "id": "5e19f220-6358-4665-b0e1-8de5dff20dcd",
   "metadata": {
    "scrolled": true
   },
   "outputs": [
    {
     "data": {
      "text/plain": [
       "array([[ 3.43224315e-01,  8.82080971e-01,  8.54710980e-01,\n",
       "         1.40406755e+00,  1.16358890e+00],\n",
       "       [ 4.57951105e-01, -5.88053981e-01,  6.81848085e-01,\n",
       "         3.30039783e-01,  1.16358890e+00],\n",
       "       [ 9.16858267e-01,  6.37058479e-01,  1.02757387e+00,\n",
       "         1.13556061e+00,  1.16358890e+00],\n",
       "       [ 1.49049222e+00, -9.80089968e-02,  1.08519484e+00,\n",
       "         4.64293253e-01,  1.16358890e+00],\n",
       "       [-9.18770380e-01,  8.82080971e-01, -1.39250665e+00,\n",
       "        -1.41525534e+00, -1.30775036e+00],\n",
       "       [ 6.87404686e-01, -9.80089968e-02,  9.12331945e-01,\n",
       "         7.32800195e-01,  1.16358890e+00],\n",
       "       [-3.45136428e-01, -3.43031489e-01, -1.82466389e-01,\n",
       "         6.15328408e-02, -7.20807285e-02],\n",
       "       [-1.14822396e+00, -9.80089968e-02, -1.45012762e+00,\n",
       "        -1.41525534e+00, -1.30775036e+00],\n",
       "       [ 9.16858267e-01,  1.47013495e-01,  4.51364225e-01,\n",
       "         3.30039783e-01, -7.20807285e-02],\n",
       "       [-9.56056587e-04, -9.80089968e-02,  1.63259401e-01,\n",
       "         3.30039783e-01, -7.20807285e-02],\n",
       "       [-1.14822396e+00, -1.32312146e+00,  3.36122295e-01,\n",
       "         5.98546724e-01,  1.16358890e+00],\n",
       "       [ 2.28497524e-01, -5.88053981e-01,  4.80174708e-02,\n",
       "         6.15328408e-02, -7.20807285e-02],\n",
       "       [ 3.43224315e-01, -2.05818893e+00,  3.36122295e-01,\n",
       "         3.30039783e-01, -7.20807285e-02],\n",
       "       [-1.03349717e+00,  1.12710346e+00, -1.33488569e+00,\n",
       "        -8.78241455e-01, -1.30775036e+00],\n",
       "       [ 6.87404686e-01, -5.88053981e-01,  3.93743260e-01,\n",
       "         3.30039783e-01, -7.20807285e-02],\n",
       "       [-1.37767754e+00,  3.92035987e-01, -1.33488569e+00,\n",
       "        -1.41525534e+00, -1.30775036e+00],\n",
       "       [-5.74590009e-01,  1.61714845e+00, -1.39250665e+00,\n",
       "        -1.41525534e+00, -1.30775036e+00],\n",
       "       [ 9.16858267e-01,  6.37058479e-01,  1.02757387e+00,\n",
       "         1.67257449e+00,  1.16358890e+00],\n",
       "       [ 1.94939938e+00, -9.80089968e-02,  1.54616256e+00,\n",
       "         1.13556061e+00,  1.16358890e+00],\n",
       "       [ 1.60521901e+00, -3.43031489e-01,  1.37329966e+00,\n",
       "         7.32800195e-01,  1.16358890e+00],\n",
       "       [ 5.72677896e-01,  3.92035987e-01,  7.97090015e-01,\n",
       "         1.40406755e+00,  1.16358890e+00],\n",
       "       [-1.15682847e-01, -8.33076473e-01,  1.05638436e-01,\n",
       "        -3.41227572e-01, -7.20807285e-02],\n",
       "       [ 1.13770734e-01, -2.05818893e+00,  6.24227120e-01,\n",
       "         3.30039783e-01,  1.16358890e+00],\n",
       "       [-8.04043590e-01,  1.12710346e+00, -1.39250665e+00,\n",
       "        -1.41525534e+00, -1.30775036e+00],\n",
       "       [-9.18770380e-01,  6.37058479e-01, -1.27726472e+00,\n",
       "        -1.01249493e+00, -1.30775036e+00],\n",
       "       [-1.49240433e+00,  8.82080971e-01, -1.45012762e+00,\n",
       "        -1.28100187e+00, -1.30775036e+00],\n",
       "       [-2.30409637e-01, -5.88053981e-01,  1.05638436e-01,\n",
       "         6.15328408e-02, -7.20807285e-02],\n",
       "       [-1.15682847e-01,  2.35221592e+00, -1.56536955e+00,\n",
       "        -1.41525534e+00, -1.30775036e+00],\n",
       "       [-1.15682847e-01, -1.07809897e+00,  4.80174708e-02,\n",
       "        -7.27206301e-02, -7.20807285e-02],\n",
       "       [ 1.13770734e-01, -3.43031489e-01,  3.36122295e-01,\n",
       "         3.30039783e-01, -7.20807285e-02],\n",
       "       [-4.59863218e-01, -1.56814395e+00, -6.72244591e-02,\n",
       "        -2.06974101e-01, -7.20807285e-02],\n",
       "       [-5.74590009e-01,  8.82080971e-01, -1.27726472e+00,\n",
       "        -1.41525534e+00, -1.30775036e+00],\n",
       "       [-3.45136428e-01, -9.80089968e-02,  3.36122295e-01,\n",
       "         3.30039783e-01, -7.20807285e-02],\n",
       "       [-1.72185791e+00, -3.43031489e-01, -1.45012762e+00,\n",
       "        -1.41525534e+00, -1.30775036e+00],\n",
       "       [ 4.57951105e-01,  8.82080971e-01,  9.69952910e-01,\n",
       "         1.53832102e+00,  1.16358890e+00],\n",
       "       [ 9.16858267e-01, -9.80089968e-02,  6.24227120e-01,\n",
       "         5.98546724e-01, -7.20807285e-02],\n",
       "       [-1.03349717e+00, -2.54823392e+00, -2.40087354e-01,\n",
       "        -3.41227572e-01, -7.20807285e-02],\n",
       "       [-1.83658470e+00, -9.80089968e-02, -1.62299051e+00,\n",
       "        -1.54950881e+00, -1.30775036e+00],\n",
       "       [-1.72185791e+00,  3.92035987e-01, -1.50774858e+00,\n",
       "        -1.41525534e+00, -1.30775036e+00],\n",
       "       [-9.18770380e-01,  1.86217094e+00, -1.33488569e+00,\n",
       "        -1.41525534e+00, -1.30775036e+00],\n",
       "       [ 8.02131477e-01, -9.80089968e-02,  2.78501331e-01,\n",
       "         1.95786312e-01, -7.20807285e-02],\n",
       "       [ 4.57951105e-01, -1.32312146e+00,  5.66606155e-01,\n",
       "         3.30039783e-01, -7.20807285e-02],\n",
       "       [ 2.28497524e-01, -9.80089968e-02,  5.66606155e-01,\n",
       "         7.32800195e-01,  1.16358890e+00],\n",
       "       [ 5.72677896e-01, -5.88053981e-01,  9.69952910e-01,\n",
       "         1.13556061e+00,  1.16358890e+00],\n",
       "       [ 1.14631185e+00,  1.47013495e-01,  6.81848085e-01,\n",
       "         1.40406755e+00,  1.16358890e+00],\n",
       "       [ 1.71994580e+00, -5.88053981e-01,  1.25805773e+00,\n",
       "         8.67053666e-01,  1.16358890e+00],\n",
       "       [ 5.72677896e-01,  3.92035987e-01,  3.36122295e-01,\n",
       "         3.30039783e-01, -7.20807285e-02],\n",
       "       [-3.45136428e-01, -1.32312146e+00, -9.60349416e-03,\n",
       "        -2.06974101e-01, -7.20807285e-02],\n",
       "       [ 1.03158506e+00, -9.80089968e-02,  9.12331945e-01,\n",
       "         1.13556061e+00,  1.16358890e+00],\n",
       "       [ 1.03158506e+00, -5.88053981e-01,  5.08985190e-01,\n",
       "         1.95786312e-01, -7.20807285e-02],\n",
       "       [-2.30409637e-01, -3.43031489e-01,  1.63259401e-01,\n",
       "         6.15328408e-02, -7.20807285e-02],\n",
       "       [ 2.29357975e+00,  1.86217094e+00,  1.43092063e+00,\n",
       "         1.00130714e+00,  1.16358890e+00],\n",
       "       [-1.26295075e+00,  8.82080971e-01, -1.16202279e+00,\n",
       "        -1.41525534e+00, -1.30775036e+00],\n",
       "       [ 5.72677896e-01,  1.47013495e-01,  9.12331945e-01,\n",
       "         7.32800195e-01,  1.16358890e+00],\n",
       "       [-1.15682847e-01, -8.33076473e-01,  6.81848085e-01,\n",
       "         8.67053666e-01,  1.16358890e+00],\n",
       "       [-5.74590009e-01,  8.82080971e-01, -1.39250665e+00,\n",
       "        -1.14674840e+00, -1.30775036e+00],\n",
       "       [ 9.16858267e-01, -1.32312146e+00,  1.08519484e+00,\n",
       "         7.32800195e-01,  1.16358890e+00],\n",
       "       [ 9.16858267e-01,  1.47013495e-01,  2.78501331e-01,\n",
       "         1.95786312e-01, -7.20807285e-02],\n",
       "       [-1.14822396e+00,  1.47013495e-01, -1.39250665e+00,\n",
       "        -1.54950881e+00, -1.30775036e+00],\n",
       "       [-5.74590009e-01, -9.80089968e-02,  3.36122295e-01,\n",
       "         3.30039783e-01, -7.20807285e-02],\n",
       "       [ 2.06412617e+00, -1.07809897e+00,  1.71902545e+00,\n",
       "         1.40406755e+00,  1.16358890e+00],\n",
       "       [ 2.06412617e+00, -5.88053981e-01,  1.60378352e+00,\n",
       "         1.00130714e+00,  1.16358890e+00],\n",
       "       [-5.74590009e-01,  2.10719343e+00, -1.27726472e+00,\n",
       "        -1.14674840e+00, -1.30775036e+00],\n",
       "       [ 1.37576543e+00, -9.80089968e-02,  1.14281580e+00,\n",
       "         1.13556061e+00,  1.16358890e+00],\n",
       "       [-1.49240433e+00,  1.47013495e-01, -1.39250665e+00,\n",
       "        -1.41525534e+00, -1.30775036e+00],\n",
       "       [-1.14822396e+00, -1.56814395e+00, -3.55329284e-01,\n",
       "        -3.41227572e-01, -7.20807285e-02],\n",
       "       [-1.03349717e+00, -9.80089968e-02, -1.33488569e+00,\n",
       "        -1.41525534e+00, -1.30775036e+00],\n",
       "       [-4.59863218e-01, -1.56814395e+00, -1.24845424e-01,\n",
       "        -3.41227572e-01, -7.20807285e-02],\n",
       "       [ 1.14631185e+00,  1.47013495e-01,  5.66606155e-01,\n",
       "         3.30039783e-01, -7.20807285e-02],\n",
       "       [ 4.57951105e-01,  6.37058479e-01,  4.51364225e-01,\n",
       "         4.64293253e-01, -7.20807285e-02],\n",
       "       [ 1.26103864e+00,  3.92035987e-01,  4.51364225e-01,\n",
       "         1.95786312e-01, -7.20807285e-02],\n",
       "       [-1.26295075e+00,  1.47013495e-01, -1.33488569e+00,\n",
       "        -1.41525534e+00, -1.30775036e+00],\n",
       "       [ 2.06412617e+00, -9.80089968e-02,  1.25805773e+00,\n",
       "         1.40406755e+00,  1.16358890e+00],\n",
       "       [ 1.49049222e+00,  3.92035987e-01,  1.20043677e+00,\n",
       "         7.32800195e-01,  1.16358890e+00],\n",
       "       [ 6.87404686e-01, -9.80089968e-02,  1.08519484e+00,\n",
       "         1.26981408e+00,  1.16358890e+00],\n",
       "       [-8.04043590e-01, -8.33076473e-01, -9.60349416e-03,\n",
       "         1.95786312e-01, -7.20807285e-02],\n",
       "       [ 5.72677896e-01, -8.33076473e-01,  7.97090015e-01,\n",
       "         8.67053666e-01,  1.16358890e+00],\n",
       "       [-1.60713112e+00, -1.81316644e+00, -1.50774858e+00,\n",
       "        -1.28100187e+00, -1.30775036e+00],\n",
       "       [-9.18770380e-01,  1.61714845e+00, -1.39250665e+00,\n",
       "        -1.14674840e+00, -1.30775036e+00],\n",
       "       [ 2.28497524e-01, -3.43031489e-01,  4.51364225e-01,\n",
       "         1.95786312e-01, -7.20807285e-02],\n",
       "       [-1.72185791e+00, -9.80089968e-02, -1.50774858e+00,\n",
       "        -1.41525534e+00, -1.30775036e+00],\n",
       "       [-1.14822396e+00,  1.37212596e+00, -1.45012762e+00,\n",
       "        -1.54950881e+00, -1.30775036e+00],\n",
       "       [-5.74590009e-01,  2.10719343e+00, -1.50774858e+00,\n",
       "        -1.14674840e+00, -1.30775036e+00],\n",
       "       [ 1.14631185e+00,  1.47013495e-01,  8.54710980e-01,\n",
       "         1.13556061e+00,  1.16358890e+00],\n",
       "       [ 6.87404686e-01,  3.92035987e-01,  6.81848085e-01,\n",
       "         1.00130714e+00,  1.16358890e+00],\n",
       "       [-1.03349717e+00, -1.81316644e+00, -3.55329284e-01,\n",
       "        -3.41227572e-01, -7.20807285e-02],\n",
       "       [-3.45136428e-01, -8.33076473e-01,  1.63259401e-01,\n",
       "         6.15328408e-02, -7.20807285e-02],\n",
       "       [-2.30409637e-01, -9.80089968e-02,  1.63259401e-01,\n",
       "        -7.27206301e-02, -7.20807285e-02],\n",
       "       [ 3.43224315e-01, -5.88053981e-01,  5.08985190e-01,\n",
       "         7.32800195e-01,  1.16358890e+00],\n",
       "       [ 2.28497524e-01, -5.88053981e-01,  4.51364225e-01,\n",
       "        -7.27206301e-02, -7.20807285e-02],\n",
       "       [-2.30409637e-01, -5.88053981e-01,  3.36122295e-01,\n",
       "         6.15328408e-02, -7.20807285e-02],\n",
       "       [ 1.14631185e+00,  3.92035987e-01,  1.02757387e+00,\n",
       "         1.40406755e+00,  1.16358890e+00],\n",
       "       [ 1.03158506e+00,  3.92035987e-01,  1.14281580e+00,\n",
       "         1.40406755e+00,  1.16358890e+00],\n",
       "       [ 2.06412617e+00,  1.86217094e+00,  1.60378352e+00,\n",
       "         1.26981408e+00,  1.16358890e+00],\n",
       "       [-2.30409637e-01, -1.32312146e+00,  6.24227120e-01,\n",
       "         1.00130714e+00,  1.16358890e+00],\n",
       "       [ 4.57951105e-01, -1.81316644e+00,  2.78501331e-01,\n",
       "         6.15328408e-02, -7.20807285e-02],\n",
       "       [-1.15682847e-01, -8.33076473e-01, -9.60349416e-03,\n",
       "        -7.27206301e-02, -7.20807285e-02],\n",
       "       [ 9.16858267e-01,  1.47013495e-01,  9.69952910e-01,\n",
       "         1.53832102e+00,  1.16358890e+00],\n",
       "       [-9.56056587e-04, -9.80089968e-02,  6.81848085e-01,\n",
       "         7.32800195e-01,  1.16358890e+00],\n",
       "       [ 4.57951105e-01, -3.43031489e-01,  9.69952910e-01,\n",
       "         7.32800195e-01,  1.16358890e+00],\n",
       "       [-2.30409637e-01,  1.86217094e+00, -1.27726472e+00,\n",
       "        -1.28100187e+00, -1.30775036e+00],\n",
       "       [-1.15682847e-01, -8.33076473e-01,  6.81848085e-01,\n",
       "         8.67053666e-01,  1.16358890e+00],\n",
       "       [-4.59863218e-01, -1.07809897e+00,  2.78501331e-01,\n",
       "        -7.27206301e-02, -7.20807285e-02],\n",
       "       [-9.18770380e-01,  1.86217094e+00, -1.16202279e+00,\n",
       "        -1.14674840e+00, -1.30775036e+00],\n",
       "       [ 6.87404686e-01, -9.80089968e-02,  7.39469050e-01,\n",
       "         1.00130714e+00,  1.16358890e+00],\n",
       "       [ 1.13770734e-01, -8.33076473e-01,  6.81848085e-01,\n",
       "         4.64293253e-01, -7.20807285e-02],\n",
       "       [-1.49240433e+00,  3.92035987e-01, -1.45012762e+00,\n",
       "        -1.41525534e+00, -1.30775036e+00],\n",
       "       [-1.26295075e+00, -9.80089968e-02, -1.45012762e+00,\n",
       "        -1.54950881e+00, -1.30775036e+00],\n",
       "       [-1.49240433e+00,  1.37212596e+00, -1.68061148e+00,\n",
       "        -1.41525534e+00, -1.30775036e+00],\n",
       "       [ 1.13770734e-01,  8.82080971e-01,  3.36122295e-01,\n",
       "         4.64293253e-01, -7.20807285e-02],\n",
       "       [-3.45136428e-01, -5.88053981e-01,  5.66606155e-01,\n",
       "         1.00130714e+00,  1.16358890e+00],\n",
       "       [ 5.72677896e-01, -3.43031489e-01,  2.20880366e-01,\n",
       "         6.15328408e-02, -7.20807285e-02],\n",
       "       [-1.03349717e+00,  8.82080971e-01, -1.33488569e+00,\n",
       "        -1.14674840e+00, -1.30775036e+00],\n",
       "       [-1.03349717e+00,  8.82080971e-01, -1.39250665e+00,\n",
       "        -1.41525534e+00, -1.30775036e+00],\n",
       "       [-8.04043590e-01,  2.59723842e+00, -1.39250665e+00,\n",
       "        -1.54950881e+00, -1.30775036e+00],\n",
       "       [ 1.49049222e+00,  1.37212596e+00,  1.25805773e+00,\n",
       "         1.67257449e+00,  1.16358890e+00],\n",
       "       [-3.45136428e-01, -9.80089968e-02,  1.05638436e-01,\n",
       "         6.15328408e-02, -7.20807285e-02],\n",
       "       [-1.37767754e+00,  3.92035987e-01, -1.50774858e+00,\n",
       "        -1.41525534e+00, -1.30775036e+00],\n",
       "       [-1.26295075e+00,  8.82080971e-01, -1.33488569e+00,\n",
       "        -1.41525534e+00, -1.30775036e+00],\n",
       "       [ 4.57951105e-01, -8.33076473e-01,  5.66606155e-01,\n",
       "         7.32800195e-01,  1.16358890e+00]])"
      ]
     },
     "execution_count": 470,
     "metadata": {},
     "output_type": "execute_result"
    }
   ],
   "source": [
    "AutoMlObject=AutoMlModel(SVC(),train_X,train_y)\n",
    "AutoMlObject.preprocess_data()"
   ]
  },
  {
   "cell_type": "code",
   "execution_count": 471,
   "id": "0233de8c-4e21-45a6-98ef-45472a35c653",
   "metadata": {},
   "outputs": [],
   "source": [
    "#cross validation score and accuracy of the iris dataset by the hyperparameterTuning model is below"
   ]
  },
  {
   "cell_type": "code",
   "execution_count": 472,
   "id": "1104af4c-0c52-484b-ad31-e0fa160a64d9",
   "metadata": {},
   "outputs": [
    {
     "name": "stdout",
     "output_type": "stream",
     "text": [
      "1.0\n"
     ]
    }
   ],
   "source": [
    "from sklearn.metrics import accuracy_score\n",
    "param_grid = {\n",
    "    'C': [0.1, 1],\n",
    "    'gamma': [0.001, 10]\n",
    "}\n",
    "hyperparameter_names = list(param_grid.keys())\n",
    "best_params=AutoMlObject.hyperparameterTuning(param_grid,15)\n",
    "best_params_grid=dict(zip(hyperparameter_names, best_params))\n",
    "svc=SVC(**best_params_grid)\n",
    "svc.fit(train_X,train_y)\n",
    "pred=svc.predict(test_X)\n",
    "acc=accuracy_score(test_y,pred)\n",
    "print(acc)\n"
   ]
  },
  {
   "cell_type": "code",
   "execution_count": 473,
   "id": "2c65b879-e55e-420b-a40f-fb15117d3a59",
   "metadata": {},
   "outputs": [
    {
     "name": "stdout",
     "output_type": "stream",
     "text": [
      "1.0\n"
     ]
    }
   ],
   "source": [
    "y_score=cross_val_score(SVC(**best_params_grid),X,y,scoring=\"accuracy\")\n",
    "print(np.mean(y_score))\n"
   ]
  },
  {
   "cell_type": "code",
   "execution_count": 474,
   "id": "f4d579e3-6024-48d3-b67d-76371c091eb6",
   "metadata": {},
   "outputs": [
    {
     "name": "stdout",
     "output_type": "stream",
     "text": [
      "1.0\n",
      "1.0\n"
     ]
    }
   ],
   "source": [
    "from sklearn.metrics import precision_score,recall_score\n",
    "precision=precision_score(test_y,pred,average=\"macro\")\n",
    "print(precision)\n",
    "recall=recall_score(test_y,pred,average=\"macro\")\n",
    "print(recall)"
   ]
  },
  {
   "cell_type": "code",
   "execution_count": 475,
   "id": "79d147ac-3706-4a45-ab14-ebd3afd3ddd9",
   "metadata": {},
   "outputs": [],
   "source": [
    "#cross validation score without the model "
   ]
  },
  {
   "cell_type": "code",
   "execution_count": 476,
   "id": "d760d713-9139-4ecd-987a-7d243681b4de",
   "metadata": {},
   "outputs": [
    {
     "name": "stdout",
     "output_type": "stream",
     "text": [
      "1.0\n",
      "1.0\n"
     ]
    }
   ],
   "source": [
    "model=SVC()\n",
    "model.fit(train_X,train_y)\n",
    "y_pred=model.predict(test_X)\n",
    "acc=accuracy_score(y_pred,test_y)\n",
    "print(acc)\n",
    "scores=cross_val_score(model,X,y)\n",
    "print(np.mean(scores))"
   ]
  },
  {
   "cell_type": "code",
   "execution_count": 477,
   "id": "5200a2ea-ede9-48e2-8d5f-9f28ed7981eb",
   "metadata": {},
   "outputs": [
    {
     "name": "stdout",
     "output_type": "stream",
     "text": [
      "1.0\n",
      "1.0\n"
     ]
    }
   ],
   "source": [
    "precision=precision_score(test_y,y_pred,average=\"macro\")\n",
    "print(precision)\n",
    "recall=recall_score(test_y,y_pred,average=\"macro\")\n",
    "print(recall)"
   ]
  },
  {
   "cell_type": "code",
   "execution_count": null,
   "id": "dbb37682-5de7-4894-a0cf-deb3fa939fb2",
   "metadata": {},
   "outputs": [],
   "source": []
  }
 ],
 "metadata": {
  "kernelspec": {
   "display_name": "Python 3 (ipykernel)",
   "language": "python",
   "name": "python3"
  },
  "language_info": {
   "codemirror_mode": {
    "name": "ipython",
    "version": 3
   },
   "file_extension": ".py",
   "mimetype": "text/x-python",
   "name": "python",
   "nbconvert_exporter": "python",
   "pygments_lexer": "ipython3",
   "version": "3.11.5"
  }
 },
 "nbformat": 4,
 "nbformat_minor": 5
}
